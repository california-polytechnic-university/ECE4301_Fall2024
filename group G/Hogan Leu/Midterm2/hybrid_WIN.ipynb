{
  "nbformat": 4,
  "nbformat_minor": 0,
  "metadata": {
    "colab": {
      "provenance": []
    },
    "kernelspec": {
      "name": "python3",
      "display_name": "Python 3"
    },
    "language_info": {
      "name": "python"
    }
  },
  "cells": [
    {
      "cell_type": "code",
      "execution_count": 7,
      "metadata": {
        "colab": {
          "base_uri": "https://localhost:8080/"
        },
        "id": "-qTgdFD5TrU5",
        "outputId": "114d1d81-3eef-491c-893f-dc493677b5e0"
      },
      "outputs": [
        {
          "output_type": "stream",
          "name": "stdout",
          "text": [
            "Mounted at /content/drive\n",
            "Files in Colab Files folder: ['encrypted_5585.enc', 'aes_key.bin']\n",
            "AES key loaded from /content/drive/My Drive/Colab Files/aes_key.bin.\n",
            "File decrypted successfully. Output saved to /content/drive/My Drive/Colab Files/decrypted_5585.mp4.\n"
          ]
        }
      ],
      "source": [
        "from cryptography.hazmat.primitives.ciphers import Cipher, algorithms, modes\n",
        "from cryptography.hazmat.primitives.padding import PKCS7\n",
        "import os\n",
        "\n",
        "# Decrypt the encrypted video file\n",
        "def decrypt_file(aes_key, input_file_path, output_file_path):\n",
        "    with open(input_file_path, 'rb') as infile:\n",
        "        data = infile.read()\n",
        "\n",
        "    # Extract IV and ciphertext\n",
        "    iv = data[:16]\n",
        "    ciphertext = data[16:]\n",
        "\n",
        "    # Create AES cipher in CBC mode\n",
        "    cipher = Cipher(algorithms.AES(aes_key), modes.CBC(iv))\n",
        "    decryptor = cipher.decryptor()\n",
        "\n",
        "    # Decrypt and remove padding\n",
        "    decrypted_padded_data = decryptor.update(ciphertext) + decryptor.finalize()\n",
        "    unpadder = PKCS7(algorithms.AES.block_size).unpadder()\n",
        "    decrypted_data = unpadder.update(decrypted_padded_data) + unpadder.finalize()\n",
        "\n",
        "    # Write the decrypted data to output file\n",
        "    with open(output_file_path, 'wb') as outfile:\n",
        "        outfile.write(decrypted_data)\n",
        "\n",
        "    print(f\"File decrypted successfully. Output saved to {output_file_path}.\")\n",
        "\n",
        "# Main function for decryption\n",
        "def main():\n",
        "    # Mount Google Drive\n",
        "    from google.colab import drive\n",
        "    drive.mount('/content/drive')\n",
        "\n",
        "    # Define file paths\n",
        "    project_path = '/content/drive/My Drive/Colab Files/'\n",
        "    key_file_path = os.path.join(project_path, 'aes_key.bin')\n",
        "    input_file = os.path.join(project_path, 'encrypted_5585.enc')\n",
        "    output_file = os.path.join(project_path, 'decrypted_5585.mp4')\n",
        "\n",
        "    # List files in the directory for debugging\n",
        "    print(\"Files in Colab Files folder:\", os.listdir(project_path))\n",
        "\n",
        "    # Load AES key from file\n",
        "    if not os.path.exists(key_file_path):\n",
        "        print(f\"AES key file {key_file_path} not found!\")\n",
        "        return\n",
        "\n",
        "    with open(key_file_path, 'rb') as key_file:\n",
        "        aes_key = key_file.read()\n",
        "    print(f\"AES key loaded from {key_file_path}.\")\n",
        "\n",
        "    # Check if encrypted file exists\n",
        "    if not os.path.exists(input_file):\n",
        "        print(f\"Encrypted file {input_file} not found!\")\n",
        "        return\n",
        "\n",
        "    # Decrypt the video file\n",
        "    decrypt_file(aes_key, input_file, output_file)\n",
        "\n",
        "if __name__ == \"__main__\":\n",
        "    main()\n"
      ]
    }
  ]
}